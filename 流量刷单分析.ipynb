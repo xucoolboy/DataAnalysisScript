{
 "cells": [
  {
   "cell_type": "code",
   "execution_count": 26,
   "metadata": {},
   "outputs": [],
   "source": [
    "from math import radians, cos, sin, asin, sqrt,floor,ceil\n",
    "import pandas as pd\n",
    "import numpy as np\n",
    "import sys\n",
    "import os\n",
    "import pymysql\n",
    "from sqlalchemy import create_engine\n",
    "from datetime import datetime, date, timedelta\n",
    "from matplotlib import pyplot as plt"
   ]
  },
  {
   "cell_type": "code",
   "execution_count": 27,
   "metadata": {},
   "outputs": [],
   "source": [
    "#计算两点间距离-m\n",
    "def geodistance(lng1,lat1,lng2,lat2):\n",
    "    lng1, lat1, lng2, lat2 = map(radians, [lng1, lat1, lng2, lat2])\n",
    "    dlon=lng2-lng1\n",
    "    dlat=lat2-lat1\n",
    "    a=sin(dlat/2)**2 + cos(lat1) * cos(lat2) * sin(dlon/2)**2 \n",
    "    dis=2*asin(sqrt(a))*6371*1000\n",
    "    return dis"
   ]
  },
  {
   "cell_type": "code",
   "execution_count": 28,
   "metadata": {},
   "outputs": [],
   "source": [
    "#向下保留2位小数\n",
    "def remain_points(num):\n",
    "        num_x , num_y = str(num).split('.')\n",
    "        num = float(num_x+'.'+num_y[0:2])       \n",
    "        return num "
   ]
  },
  {
   "cell_type": "code",
   "execution_count": 29,
   "metadata": {},
   "outputs": [
    {
     "data": {
      "text/plain": [
       "9509.20502436699"
      ]
     },
     "execution_count": 29,
     "metadata": {},
     "output_type": "execute_result"
    }
   ],
   "source": [
    "geodistance(121.44,31.22,121.54,31.22)"
   ]
  },
  {
   "cell_type": "code",
   "execution_count": 30,
   "metadata": {},
   "outputs": [],
   "source": [
    "df=pd.read_excel('刷单识别new.xlsx')"
   ]
  },
  {
   "cell_type": "code",
   "execution_count": 31,
   "metadata": {},
   "outputs": [],
   "source": [
    "df['经度']=df['经度'].apply(lambda x:remain_points(x))\n",
    "df['纬度']=df['纬度'].apply(lambda x:remain_points(x))"
   ]
  },
  {
   "cell_type": "code",
   "execution_count": 32,
   "metadata": {},
   "outputs": [
    {
     "data": {
      "text/html": [
       "<div>\n",
       "<style scoped>\n",
       "    .dataframe tbody tr th:only-of-type {\n",
       "        vertical-align: middle;\n",
       "    }\n",
       "\n",
       "    .dataframe tbody tr th {\n",
       "        vertical-align: top;\n",
       "    }\n",
       "\n",
       "    .dataframe thead th {\n",
       "        text-align: right;\n",
       "    }\n",
       "</style>\n",
       "<table border=\"1\" class=\"dataframe\">\n",
       "  <thead>\n",
       "    <tr style=\"text-align: right;\">\n",
       "      <th></th>\n",
       "      <th>司机id</th>\n",
       "      <th>司机手机</th>\n",
       "      <th>用户手机</th>\n",
       "      <th>用户id</th>\n",
       "      <th>经度</th>\n",
       "      <th>纬度</th>\n",
       "      <th>精确经度</th>\n",
       "      <th>精确纬度</th>\n",
       "      <th>订单时间</th>\n",
       "      <th>是否司机号</th>\n",
       "    </tr>\n",
       "  </thead>\n",
       "  <tbody>\n",
       "    <tr>\n",
       "      <th>0</th>\n",
       "      <td>101</td>\n",
       "      <td>15807554270</td>\n",
       "      <td>18355519765</td>\n",
       "      <td>97253</td>\n",
       "      <td>120.10</td>\n",
       "      <td>30.29</td>\n",
       "      <td>120.109320</td>\n",
       "      <td>30.293509</td>\n",
       "      <td>2018-08-03 16:27:30</td>\n",
       "      <td>1</td>\n",
       "    </tr>\n",
       "    <tr>\n",
       "      <th>1</th>\n",
       "      <td>101</td>\n",
       "      <td>15807554270</td>\n",
       "      <td>13866665531</td>\n",
       "      <td>110411</td>\n",
       "      <td>121.24</td>\n",
       "      <td>31.03</td>\n",
       "      <td>121.241913</td>\n",
       "      <td>31.035725</td>\n",
       "      <td>2018-08-04 18:36:46</td>\n",
       "      <td>1</td>\n",
       "    </tr>\n",
       "    <tr>\n",
       "      <th>2</th>\n",
       "      <td>101</td>\n",
       "      <td>15807554270</td>\n",
       "      <td>13866664137</td>\n",
       "      <td>113237</td>\n",
       "      <td>121.70</td>\n",
       "      <td>31.07</td>\n",
       "      <td>121.708560</td>\n",
       "      <td>31.070751</td>\n",
       "      <td>2018-08-07 11:11:01</td>\n",
       "      <td>1</td>\n",
       "    </tr>\n",
       "    <tr>\n",
       "      <th>3</th>\n",
       "      <td>101</td>\n",
       "      <td>15807554270</td>\n",
       "      <td>18368864280</td>\n",
       "      <td>97269</td>\n",
       "      <td>120.10</td>\n",
       "      <td>30.29</td>\n",
       "      <td>120.109497</td>\n",
       "      <td>30.293535</td>\n",
       "      <td>2018-08-07 17:15:08</td>\n",
       "      <td>1</td>\n",
       "    </tr>\n",
       "    <tr>\n",
       "      <th>4</th>\n",
       "      <td>101</td>\n",
       "      <td>15807554270</td>\n",
       "      <td>13866668032</td>\n",
       "      <td>115138</td>\n",
       "      <td>116.34</td>\n",
       "      <td>39.98</td>\n",
       "      <td>116.349243</td>\n",
       "      <td>39.986588</td>\n",
       "      <td>2018-08-08 15:03:01</td>\n",
       "      <td>0</td>\n",
       "    </tr>\n",
       "  </tbody>\n",
       "</table>\n",
       "</div>"
      ],
      "text/plain": [
       "   司机id         司机手机         用户手机    用户id      经度     纬度        精确经度  \\\n",
       "0   101  15807554270  18355519765   97253  120.10  30.29  120.109320   \n",
       "1   101  15807554270  13866665531  110411  121.24  31.03  121.241913   \n",
       "2   101  15807554270  13866664137  113237  121.70  31.07  121.708560   \n",
       "3   101  15807554270  18368864280   97269  120.10  30.29  120.109497   \n",
       "4   101  15807554270  13866668032  115138  116.34  39.98  116.349243   \n",
       "\n",
       "        精确纬度                订单时间  是否司机号  \n",
       "0  30.293509 2018-08-03 16:27:30      1  \n",
       "1  31.035725 2018-08-04 18:36:46      1  \n",
       "2  31.070751 2018-08-07 11:11:01      1  \n",
       "3  30.293535 2018-08-07 17:15:08      1  \n",
       "4  39.986588 2018-08-08 15:03:01      0  "
      ]
     },
     "execution_count": 32,
     "metadata": {},
     "output_type": "execute_result"
    }
   ],
   "source": [
    "df.head()"
   ]
  },
  {
   "cell_type": "code",
   "execution_count": 33,
   "metadata": {},
   "outputs": [],
   "source": [
    "df['位置']=df.经度.astype('str')+'|'+df.纬度.astype('str')"
   ]
  },
  {
   "cell_type": "code",
   "execution_count": 34,
   "metadata": {},
   "outputs": [],
   "source": [
    "df['是否刷单号']=0"
   ]
  },
  {
   "cell_type": "code",
   "execution_count": 35,
   "metadata": {},
   "outputs": [],
   "source": [
    "df_value_counts=df.groupby('司机id').apply(lambda x:x.位置.value_counts()).reset_index()"
   ]
  },
  {
   "cell_type": "code",
   "execution_count": 36,
   "metadata": {},
   "outputs": [],
   "source": [
    "#同一位置刷单判断\n",
    "df_same_place=df_value_counts[(df_value_counts['位置']>=4)&(df_value_counts.level_1!='0.0|0.0')]"
   ]
  },
  {
   "cell_type": "code",
   "execution_count": 37,
   "metadata": {},
   "outputs": [
    {
     "name": "stderr",
     "output_type": "stream",
     "text": [
      "D:\\software\\Anaconda3\\lib\\site-packages\\pandas\\core\\frame.py:3778: SettingWithCopyWarning: \n",
      "A value is trying to be set on a copy of a slice from a DataFrame\n",
      "\n",
      "See the caveats in the documentation: http://pandas.pydata.org/pandas-docs/stable/indexing.html#indexing-view-versus-copy\n",
      "  return super(DataFrame, self).rename(**kwargs)\n"
     ]
    }
   ],
   "source": [
    "df_same_place.rename(columns={'level_1':'位置','位置':'次数'},inplace=True)"
   ]
  },
  {
   "cell_type": "code",
   "execution_count": 38,
   "metadata": {},
   "outputs": [],
   "source": [
    "df_same_place=df_same_place.reset_index(drop=True)"
   ]
  },
  {
   "cell_type": "code",
   "execution_count": 39,
   "metadata": {},
   "outputs": [],
   "source": [
    "#计算是否上海市\n",
    "df['是否外地']=0\n",
    "df.loc[((df.经度<120.51)|(df.经度>122.12)|(df.纬度<30.40)|(df.纬度>31.53))&df.经度!=0,'是否外地']=1"
   ]
  },
  {
   "cell_type": "code",
   "execution_count": 40,
   "metadata": {},
   "outputs": [],
   "source": [
    "#连接订单表和司机同一位置统计表\n",
    "order_sp_info=df.merge(df_same_place,on=['司机id','位置'])"
   ]
  },
  {
   "cell_type": "code",
   "execution_count": 41,
   "metadata": {},
   "outputs": [],
   "source": [
    "#计算同位置司机订单间隔\n",
    "order_sp_interval=order_sp_info.groupby(['司机id','位置']).apply(lambda x:((x.订单时间-x.订单时间.shift())/timedelta(hours=1)).mean()).reset_index()"
   ]
  },
  {
   "cell_type": "code",
   "execution_count": 42,
   "metadata": {},
   "outputs": [],
   "source": [
    "order_sp_interval.rename(columns={0:'间隔'},inplace=True)"
   ]
  },
  {
   "cell_type": "code",
   "execution_count": 43,
   "metadata": {},
   "outputs": [],
   "source": [
    "df_same_place['间隔']=order_sp_interval.间隔"
   ]
  },
  {
   "cell_type": "code",
   "execution_count": 44,
   "metadata": {},
   "outputs": [],
   "source": [
    "#判断司机同一地点订单是否刷单\n",
    "df_sp_driver=df_same_place[(df_same_place.次数>=3)|(df_same_place.间隔>1)]"
   ]
  },
  {
   "cell_type": "code",
   "execution_count": 45,
   "metadata": {},
   "outputs": [],
   "source": [
    "df_sp_driver.loc[:,'是否同地点刷单']=1\n",
    "df_sp_driver.drop(['次数','间隔'],axis=1,inplace=True)"
   ]
  },
  {
   "cell_type": "code",
   "execution_count": 46,
   "metadata": {},
   "outputs": [],
   "source": [
    "df=df.merge(df_sp_driver,how='left',on=['司机id','位置']).fillna(0)"
   ]
  },
  {
   "cell_type": "code",
   "execution_count": 47,
   "metadata": {},
   "outputs": [],
   "source": [
    "#提取订单时间精确到小时\n",
    "df['订单小时']=df.订单时间.apply(lambda x:x.strftime('%Y-%m-%d %H'))"
   ]
  },
  {
   "cell_type": "code",
   "execution_count": 48,
   "metadata": {},
   "outputs": [],
   "source": [
    "#筛选同小时有两单以上的司机\n",
    "driver_order_sh=df[df.经度>0].groupby(['司机id','订单小时']).位置.count().reset_index()"
   ]
  },
  {
   "cell_type": "code",
   "execution_count": 67,
   "metadata": {},
   "outputs": [],
   "source": [
    "#计算同小时超过3单的时段和司机\n",
    "driver_3order_sh=df.groupby(['司机id','订单小时']).位置.count().reset_index()\n",
    "driver_3order_sh.loc[driver_3order_sh.位置>=3,'是否同时段刷单']=1\n",
    "driver_3order_sh=driver_3order_sh.loc[driver_3order_sh.是否同时段刷单==1].drop('位置',axis=1)"
   ]
  },
  {
   "cell_type": "code",
   "execution_count": 54,
   "metadata": {},
   "outputs": [],
   "source": [
    "df_2order_sh=df.merge(driver_order_sh.loc[driver_order_sh.位置>=2,['司机id','订单小时']],on=['司机id','订单小时'])"
   ]
  },
  {
   "cell_type": "code",
   "execution_count": 55,
   "metadata": {},
   "outputs": [],
   "source": [
    "#经纬度下移并赋值\n",
    "df_2order_sh['经度下移']=df_2order_sh.groupby(['司机id','订单小时']).apply(lambda x:x.精确经度.shift()).reset_index().精确经度\n",
    "df_2order_sh['纬度下移']=df_2order_sh.groupby(['司机id','订单小时']).apply(lambda x:x.精确纬度.shift()).reset_index().精确纬度"
   ]
  },
  {
   "cell_type": "code",
   "execution_count": 56,
   "metadata": {},
   "outputs": [],
   "source": [
    "#计算订单时间差\n",
    "df_2order_sh['时间间隔']=df_2order_sh.groupby(['司机id','订单小时']).apply(lambda x:(x.订单时间-x.订单时间.shift())/timedelta(hours=1)).reset_index().订单时间"
   ]
  },
  {
   "cell_type": "code",
   "execution_count": 57,
   "metadata": {},
   "outputs": [],
   "source": [
    "#将无时间间隔的赋予极小间隔\n",
    "df_2order_sh.loc[df_2order_sh.时间间隔==0,'时间间隔']=0.0001"
   ]
  },
  {
   "cell_type": "code",
   "execution_count": 58,
   "metadata": {},
   "outputs": [],
   "source": [
    "df_2order_sh_js=df_2order_sh[(~df_2order_sh.时间间隔.isna())&(df_2order_sh.经度!=0)&(df_2order_sh.经度下移!=0)].reset_index(drop=True)\n",
    "df_2order_sh_js['时速']=df_2order_sh_js.apply(lambda x:round(geodistance(x.精确经度,x.精确纬度,x.经度下移,x.纬度下移)/1000/x.时间间隔),axis=1)"
   ]
  },
  {
   "cell_type": "code",
   "execution_count": 62,
   "metadata": {},
   "outputs": [
    {
     "data": {
      "text/html": [
       "<div>\n",
       "<style scoped>\n",
       "    .dataframe tbody tr th:only-of-type {\n",
       "        vertical-align: middle;\n",
       "    }\n",
       "\n",
       "    .dataframe tbody tr th {\n",
       "        vertical-align: top;\n",
       "    }\n",
       "\n",
       "    .dataframe thead th {\n",
       "        text-align: right;\n",
       "    }\n",
       "</style>\n",
       "<table border=\"1\" class=\"dataframe\">\n",
       "  <thead>\n",
       "    <tr style=\"text-align: right;\">\n",
       "      <th></th>\n",
       "      <th>司机id</th>\n",
       "      <th>订单小时</th>\n",
       "      <th>是否同时段刷单</th>\n",
       "    </tr>\n",
       "  </thead>\n",
       "  <tbody>\n",
       "    <tr>\n",
       "      <th>58</th>\n",
       "      <td>119001</td>\n",
       "      <td>2018-08-22 14</td>\n",
       "      <td>1.0</td>\n",
       "    </tr>\n",
       "    <tr>\n",
       "      <th>99</th>\n",
       "      <td>122320</td>\n",
       "      <td>2018-08-02 12</td>\n",
       "      <td>1.0</td>\n",
       "    </tr>\n",
       "    <tr>\n",
       "      <th>106</th>\n",
       "      <td>122320</td>\n",
       "      <td>2018-08-03 18</td>\n",
       "      <td>1.0</td>\n",
       "    </tr>\n",
       "    <tr>\n",
       "      <th>119</th>\n",
       "      <td>122320</td>\n",
       "      <td>2018-08-20 15</td>\n",
       "      <td>1.0</td>\n",
       "    </tr>\n",
       "    <tr>\n",
       "      <th>177</th>\n",
       "      <td>122354</td>\n",
       "      <td>2018-08-04 14</td>\n",
       "      <td>1.0</td>\n",
       "    </tr>\n",
       "  </tbody>\n",
       "</table>\n",
       "</div>"
      ],
      "text/plain": [
       "       司机id           订单小时  是否同时段刷单\n",
       "58   119001  2018-08-22 14      1.0\n",
       "99   122320  2018-08-02 12      1.0\n",
       "106  122320  2018-08-03 18      1.0\n",
       "119  122320  2018-08-20 15      1.0\n",
       "177  122354  2018-08-04 14      1.0"
      ]
     },
     "execution_count": 62,
     "metadata": {},
     "output_type": "execute_result"
    }
   ],
   "source": [
    "driver_3order_sh.head()"
   ]
  },
  {
   "cell_type": "code",
   "execution_count": 71,
   "metadata": {},
   "outputs": [],
   "source": [
    "#筛选相近时间不同地点刷单\n",
    "df_final=df.merge(driver_3order_sh,on=['司机id','订单小时'],how='left').\\\n",
    "merge(df_2order_sh_js.loc[df_2order_sh_js.时速>=80,['用户id','时间间隔','时速']],on='用户id',how='left')"
   ]
  },
  {
   "cell_type": "code",
   "execution_count": 72,
   "metadata": {},
   "outputs": [],
   "source": [
    "df_final.to_excel('shuadan2.xlsx')"
   ]
  },
  {
   "cell_type": "code",
   "execution_count": 120,
   "metadata": {},
   "outputs": [],
   "source": [
    "df_new=pd.read_excel('shuadan1.xlsx')"
   ]
  },
  {
   "cell_type": "code",
   "execution_count": 121,
   "metadata": {},
   "outputs": [
    {
     "data": {
      "text/html": [
       "<div>\n",
       "<style scoped>\n",
       "    .dataframe tbody tr th:only-of-type {\n",
       "        vertical-align: middle;\n",
       "    }\n",
       "\n",
       "    .dataframe tbody tr th {\n",
       "        vertical-align: top;\n",
       "    }\n",
       "\n",
       "    .dataframe thead th {\n",
       "        text-align: right;\n",
       "    }\n",
       "</style>\n",
       "<table border=\"1\" class=\"dataframe\">\n",
       "  <thead>\n",
       "    <tr style=\"text-align: right;\">\n",
       "      <th></th>\n",
       "      <th>司机id</th>\n",
       "      <th>司机手机</th>\n",
       "      <th>用户手机</th>\n",
       "      <th>用户id</th>\n",
       "      <th>经度</th>\n",
       "      <th>纬度</th>\n",
       "      <th>精确经度</th>\n",
       "      <th>精确纬度</th>\n",
       "      <th>订单时间</th>\n",
       "      <th>是否司机号</th>\n",
       "      <th>位置</th>\n",
       "      <th>是否刷单号</th>\n",
       "      <th>是否外地</th>\n",
       "      <th>是否同地点刷单</th>\n",
       "      <th>其他规则</th>\n",
       "      <th>订单小时</th>\n",
       "      <th>时间间隔</th>\n",
       "      <th>时速</th>\n",
       "    </tr>\n",
       "  </thead>\n",
       "  <tbody>\n",
       "    <tr>\n",
       "      <th>0</th>\n",
       "      <td>101</td>\n",
       "      <td>15807554270</td>\n",
       "      <td>18355519765</td>\n",
       "      <td>97253</td>\n",
       "      <td>120.10</td>\n",
       "      <td>30.29</td>\n",
       "      <td>120.109320</td>\n",
       "      <td>30.293509</td>\n",
       "      <td>2018-08-03 16:27:30</td>\n",
       "      <td>1</td>\n",
       "      <td>120.1|30.29</td>\n",
       "      <td>0</td>\n",
       "      <td>1</td>\n",
       "      <td>1</td>\n",
       "      <td>0</td>\n",
       "      <td>2018-08-03 16</td>\n",
       "      <td>NaN</td>\n",
       "      <td>NaN</td>\n",
       "    </tr>\n",
       "    <tr>\n",
       "      <th>1</th>\n",
       "      <td>101</td>\n",
       "      <td>15807554270</td>\n",
       "      <td>13866665531</td>\n",
       "      <td>110411</td>\n",
       "      <td>121.24</td>\n",
       "      <td>31.03</td>\n",
       "      <td>121.241913</td>\n",
       "      <td>31.035725</td>\n",
       "      <td>2018-08-04 18:36:46</td>\n",
       "      <td>1</td>\n",
       "      <td>121.24|31.03</td>\n",
       "      <td>0</td>\n",
       "      <td>0</td>\n",
       "      <td>0</td>\n",
       "      <td>0</td>\n",
       "      <td>2018-08-04 18</td>\n",
       "      <td>NaN</td>\n",
       "      <td>NaN</td>\n",
       "    </tr>\n",
       "    <tr>\n",
       "      <th>2</th>\n",
       "      <td>101</td>\n",
       "      <td>15807554270</td>\n",
       "      <td>13866664137</td>\n",
       "      <td>113237</td>\n",
       "      <td>121.70</td>\n",
       "      <td>31.07</td>\n",
       "      <td>121.708560</td>\n",
       "      <td>31.070751</td>\n",
       "      <td>2018-08-07 11:11:01</td>\n",
       "      <td>1</td>\n",
       "      <td>121.7|31.07</td>\n",
       "      <td>0</td>\n",
       "      <td>0</td>\n",
       "      <td>0</td>\n",
       "      <td>0</td>\n",
       "      <td>2018-08-07 11</td>\n",
       "      <td>NaN</td>\n",
       "      <td>NaN</td>\n",
       "    </tr>\n",
       "    <tr>\n",
       "      <th>3</th>\n",
       "      <td>101</td>\n",
       "      <td>15807554270</td>\n",
       "      <td>18368864280</td>\n",
       "      <td>97269</td>\n",
       "      <td>120.10</td>\n",
       "      <td>30.29</td>\n",
       "      <td>120.109497</td>\n",
       "      <td>30.293535</td>\n",
       "      <td>2018-08-07 17:15:08</td>\n",
       "      <td>1</td>\n",
       "      <td>120.1|30.29</td>\n",
       "      <td>0</td>\n",
       "      <td>1</td>\n",
       "      <td>1</td>\n",
       "      <td>0</td>\n",
       "      <td>2018-08-07 17</td>\n",
       "      <td>NaN</td>\n",
       "      <td>NaN</td>\n",
       "    </tr>\n",
       "    <tr>\n",
       "      <th>4</th>\n",
       "      <td>101</td>\n",
       "      <td>15807554270</td>\n",
       "      <td>13866668032</td>\n",
       "      <td>115138</td>\n",
       "      <td>116.34</td>\n",
       "      <td>39.98</td>\n",
       "      <td>116.349243</td>\n",
       "      <td>39.986588</td>\n",
       "      <td>2018-08-08 15:03:01</td>\n",
       "      <td>0</td>\n",
       "      <td>116.34|39.98</td>\n",
       "      <td>0</td>\n",
       "      <td>1</td>\n",
       "      <td>0</td>\n",
       "      <td>0</td>\n",
       "      <td>2018-08-08 15</td>\n",
       "      <td>NaN</td>\n",
       "      <td>NaN</td>\n",
       "    </tr>\n",
       "  </tbody>\n",
       "</table>\n",
       "</div>"
      ],
      "text/plain": [
       "   司机id         司机手机         用户手机    用户id      经度     纬度        精确经度  \\\n",
       "0   101  15807554270  18355519765   97253  120.10  30.29  120.109320   \n",
       "1   101  15807554270  13866665531  110411  121.24  31.03  121.241913   \n",
       "2   101  15807554270  13866664137  113237  121.70  31.07  121.708560   \n",
       "3   101  15807554270  18368864280   97269  120.10  30.29  120.109497   \n",
       "4   101  15807554270  13866668032  115138  116.34  39.98  116.349243   \n",
       "\n",
       "        精确纬度                订单时间  是否司机号            位置  是否刷单号  是否外地  是否同地点刷单  \\\n",
       "0  30.293509 2018-08-03 16:27:30      1   120.1|30.29      0     1        1   \n",
       "1  31.035725 2018-08-04 18:36:46      1  121.24|31.03      0     0        0   \n",
       "2  31.070751 2018-08-07 11:11:01      1   121.7|31.07      0     0        0   \n",
       "3  30.293535 2018-08-07 17:15:08      1   120.1|30.29      0     1        1   \n",
       "4  39.986588 2018-08-08 15:03:01      0  116.34|39.98      0     1        0   \n",
       "\n",
       "   其他规则           订单小时  时间间隔  时速  \n",
       "0     0  2018-08-03 16   NaN NaN  \n",
       "1     0  2018-08-04 18   NaN NaN  \n",
       "2     0  2018-08-07 11   NaN NaN  \n",
       "3     0  2018-08-07 17   NaN NaN  \n",
       "4     0  2018-08-08 15   NaN NaN  "
      ]
     },
     "execution_count": 121,
     "metadata": {},
     "output_type": "execute_result"
    }
   ],
   "source": [
    "df_new.head()"
   ]
  },
  {
   "cell_type": "code",
   "execution_count": 125,
   "metadata": {},
   "outputs": [],
   "source": [
    "df_new.loc[(df_new.是否外地==1)|(df_new.是否同地点刷单==1)|(df_new.其他规则==1)|(df_new.司机id==101),'是否刷单号']=1"
   ]
  },
  {
   "cell_type": "code",
   "execution_count": 127,
   "metadata": {},
   "outputs": [],
   "source": [
    "df_new.to_excel('shuadanend.xlsx')"
   ]
  },
  {
   "cell_type": "code",
   "execution_count": null,
   "metadata": {},
   "outputs": [],
   "source": []
  },
  {
   "cell_type": "code",
   "execution_count": 2,
   "metadata": {},
   "outputs": [],
   "source": [
    "real_df=pd.read_excel('流量司机物料更换对比.xlsx')"
   ]
  },
  {
   "cell_type": "code",
   "execution_count": 3,
   "metadata": {},
   "outputs": [
    {
     "data": {
      "text/html": [
       "<div>\n",
       "<style scoped>\n",
       "    .dataframe tbody tr th:only-of-type {\n",
       "        vertical-align: middle;\n",
       "    }\n",
       "\n",
       "    .dataframe tbody tr th {\n",
       "        vertical-align: top;\n",
       "    }\n",
       "\n",
       "    .dataframe thead th {\n",
       "        text-align: right;\n",
       "    }\n",
       "</style>\n",
       "<table border=\"1\" class=\"dataframe\">\n",
       "  <thead>\n",
       "    <tr style=\"text-align: right;\">\n",
       "      <th></th>\n",
       "      <th>司机id</th>\n",
       "      <th>姓名</th>\n",
       "      <th>手机</th>\n",
       "      <th>激活时间</th>\n",
       "      <th>激活状态</th>\n",
       "      <th>装车总时长</th>\n",
       "      <th>活跃天数(任务)</th>\n",
       "      <th>活跃天数(领券)</th>\n",
       "      <th>活跃天数占比</th>\n",
       "      <th>累计完成任务数</th>\n",
       "      <th>累计领券数</th>\n",
       "      <th>完成任务数</th>\n",
       "      <th>领券数</th>\n",
       "      <th>转化率</th>\n",
       "      <th>在线日均完成任务数</th>\n",
       "      <th>在线日均领券数</th>\n",
       "      <th>物料批次</th>\n",
       "    </tr>\n",
       "  </thead>\n",
       "  <tbody>\n",
       "    <tr>\n",
       "      <th>0</th>\n",
       "      <td>122320</td>\n",
       "      <td>张健</td>\n",
       "      <td>15072011065</td>\n",
       "      <td>2018-08-01</td>\n",
       "      <td>1</td>\n",
       "      <td>19</td>\n",
       "      <td>3</td>\n",
       "      <td>2</td>\n",
       "      <td>0.157895</td>\n",
       "      <td>6.0</td>\n",
       "      <td>2.0</td>\n",
       "      <td>0.315789</td>\n",
       "      <td>0.105263</td>\n",
       "      <td>0.3333</td>\n",
       "      <td>2.000000</td>\n",
       "      <td>0.666667</td>\n",
       "      <td>1</td>\n",
       "    </tr>\n",
       "    <tr>\n",
       "      <th>1</th>\n",
       "      <td>122338</td>\n",
       "      <td>蔡杰阳</td>\n",
       "      <td>18116262922</td>\n",
       "      <td>2018-08-01</td>\n",
       "      <td>1</td>\n",
       "      <td>19</td>\n",
       "      <td>6</td>\n",
       "      <td>3</td>\n",
       "      <td>0.315789</td>\n",
       "      <td>9.0</td>\n",
       "      <td>4.0</td>\n",
       "      <td>0.473684</td>\n",
       "      <td>0.210526</td>\n",
       "      <td>0.4444</td>\n",
       "      <td>1.500000</td>\n",
       "      <td>0.666667</td>\n",
       "      <td>1</td>\n",
       "    </tr>\n",
       "    <tr>\n",
       "      <th>2</th>\n",
       "      <td>122322</td>\n",
       "      <td>许玉华</td>\n",
       "      <td>18301932289</td>\n",
       "      <td>2018-08-01</td>\n",
       "      <td>1</td>\n",
       "      <td>19</td>\n",
       "      <td>5</td>\n",
       "      <td>3</td>\n",
       "      <td>0.263158</td>\n",
       "      <td>6.0</td>\n",
       "      <td>3.0</td>\n",
       "      <td>0.315789</td>\n",
       "      <td>0.157895</td>\n",
       "      <td>0.5000</td>\n",
       "      <td>1.200000</td>\n",
       "      <td>0.600000</td>\n",
       "      <td>1</td>\n",
       "    </tr>\n",
       "    <tr>\n",
       "      <th>3</th>\n",
       "      <td>122353</td>\n",
       "      <td>孔宪明</td>\n",
       "      <td>13304280488</td>\n",
       "      <td>2018-08-02</td>\n",
       "      <td>1</td>\n",
       "      <td>18</td>\n",
       "      <td>15</td>\n",
       "      <td>10</td>\n",
       "      <td>0.833333</td>\n",
       "      <td>27.0</td>\n",
       "      <td>14.0</td>\n",
       "      <td>1.500000</td>\n",
       "      <td>0.777778</td>\n",
       "      <td>0.5185</td>\n",
       "      <td>1.800000</td>\n",
       "      <td>0.933333</td>\n",
       "      <td>1</td>\n",
       "    </tr>\n",
       "    <tr>\n",
       "      <th>4</th>\n",
       "      <td>122354</td>\n",
       "      <td>卢卫生</td>\n",
       "      <td>13689900885</td>\n",
       "      <td>2018-08-02</td>\n",
       "      <td>1</td>\n",
       "      <td>18</td>\n",
       "      <td>17</td>\n",
       "      <td>15</td>\n",
       "      <td>0.944444</td>\n",
       "      <td>92.0</td>\n",
       "      <td>41.0</td>\n",
       "      <td>5.111111</td>\n",
       "      <td>2.277778</td>\n",
       "      <td>0.4457</td>\n",
       "      <td>5.411765</td>\n",
       "      <td>2.411765</td>\n",
       "      <td>1</td>\n",
       "    </tr>\n",
       "  </tbody>\n",
       "</table>\n",
       "</div>"
      ],
      "text/plain": [
       "     司机id   姓名           手机       激活时间  激活状态  装车总时长  活跃天数(任务)  活跃天数(领券)  \\\n",
       "0  122320   张健  15072011065 2018-08-01     1     19         3         2   \n",
       "1  122338  蔡杰阳  18116262922 2018-08-01     1     19         6         3   \n",
       "2  122322  许玉华  18301932289 2018-08-01     1     19         5         3   \n",
       "3  122353  孔宪明  13304280488 2018-08-02     1     18        15        10   \n",
       "4  122354  卢卫生  13689900885 2018-08-02     1     18        17        15   \n",
       "\n",
       "     活跃天数占比  累计完成任务数  累计领券数     完成任务数       领券数     转化率  在线日均完成任务数   在线日均领券数  \\\n",
       "0  0.157895      6.0    2.0  0.315789  0.105263  0.3333   2.000000  0.666667   \n",
       "1  0.315789      9.0    4.0  0.473684  0.210526  0.4444   1.500000  0.666667   \n",
       "2  0.263158      6.0    3.0  0.315789  0.157895  0.5000   1.200000  0.600000   \n",
       "3  0.833333     27.0   14.0  1.500000  0.777778  0.5185   1.800000  0.933333   \n",
       "4  0.944444     92.0   41.0  5.111111  2.277778  0.4457   5.411765  2.411765   \n",
       "\n",
       "   物料批次  \n",
       "0     1  \n",
       "1     1  \n",
       "2     1  \n",
       "3     1  \n",
       "4     1  "
      ]
     },
     "execution_count": 3,
     "metadata": {},
     "output_type": "execute_result"
    }
   ],
   "source": [
    "real_df.head()"
   ]
  },
  {
   "cell_type": "code",
   "execution_count": 18,
   "metadata": {},
   "outputs": [
    {
     "data": {
      "text/html": [
       "<div>\n",
       "<style scoped>\n",
       "    .dataframe tbody tr th:only-of-type {\n",
       "        vertical-align: middle;\n",
       "    }\n",
       "\n",
       "    .dataframe tbody tr th {\n",
       "        vertical-align: top;\n",
       "    }\n",
       "\n",
       "    .dataframe thead th {\n",
       "        text-align: right;\n",
       "    }\n",
       "</style>\n",
       "<table border=\"1\" class=\"dataframe\">\n",
       "  <thead>\n",
       "    <tr style=\"text-align: right;\">\n",
       "      <th></th>\n",
       "      <th>司机id</th>\n",
       "      <th>姓名</th>\n",
       "      <th>手机</th>\n",
       "      <th>激活时间</th>\n",
       "      <th>激活状态</th>\n",
       "      <th>装车总时长</th>\n",
       "      <th>活跃天数(任务)</th>\n",
       "      <th>活跃天数(领券)</th>\n",
       "      <th>活跃天数占比</th>\n",
       "      <th>累计完成任务数</th>\n",
       "      <th>累计领券数</th>\n",
       "      <th>完成任务数</th>\n",
       "      <th>领券数</th>\n",
       "      <th>转化率</th>\n",
       "      <th>在线日均完成任务数</th>\n",
       "      <th>在线日均领券数</th>\n",
       "      <th>物料批次</th>\n",
       "    </tr>\n",
       "  </thead>\n",
       "  <tbody>\n",
       "    <tr>\n",
       "      <th>30</th>\n",
       "      <td>122490</td>\n",
       "      <td>甄玉飞</td>\n",
       "      <td>15237402535</td>\n",
       "      <td>2018-08-04</td>\n",
       "      <td>1</td>\n",
       "      <td>16</td>\n",
       "      <td>0</td>\n",
       "      <td>0</td>\n",
       "      <td>0.0</td>\n",
       "      <td>NaN</td>\n",
       "      <td>NaN</td>\n",
       "      <td>0.0</td>\n",
       "      <td>0.0</td>\n",
       "      <td>0.0</td>\n",
       "      <td>0.0</td>\n",
       "      <td>0.0</td>\n",
       "      <td>1</td>\n",
       "    </tr>\n",
       "    <tr>\n",
       "      <th>57</th>\n",
       "      <td>122557</td>\n",
       "      <td>朱海军</td>\n",
       "      <td>18762100513</td>\n",
       "      <td>2018-08-06</td>\n",
       "      <td>1</td>\n",
       "      <td>15</td>\n",
       "      <td>0</td>\n",
       "      <td>0</td>\n",
       "      <td>0.0</td>\n",
       "      <td>NaN</td>\n",
       "      <td>NaN</td>\n",
       "      <td>0.0</td>\n",
       "      <td>0.0</td>\n",
       "      <td>0.0</td>\n",
       "      <td>0.0</td>\n",
       "      <td>0.0</td>\n",
       "      <td>1</td>\n",
       "    </tr>\n",
       "    <tr>\n",
       "      <th>59</th>\n",
       "      <td>122581</td>\n",
       "      <td>江国成</td>\n",
       "      <td>19945733218</td>\n",
       "      <td>2018-08-06</td>\n",
       "      <td>1</td>\n",
       "      <td>15</td>\n",
       "      <td>0</td>\n",
       "      <td>0</td>\n",
       "      <td>0.0</td>\n",
       "      <td>NaN</td>\n",
       "      <td>NaN</td>\n",
       "      <td>0.0</td>\n",
       "      <td>0.0</td>\n",
       "      <td>0.0</td>\n",
       "      <td>0.0</td>\n",
       "      <td>0.0</td>\n",
       "      <td>1</td>\n",
       "    </tr>\n",
       "    <tr>\n",
       "      <th>74</th>\n",
       "      <td>122719</td>\n",
       "      <td>杨磊</td>\n",
       "      <td>17502131878</td>\n",
       "      <td>2018-08-10</td>\n",
       "      <td>1</td>\n",
       "      <td>11</td>\n",
       "      <td>0</td>\n",
       "      <td>0</td>\n",
       "      <td>0.0</td>\n",
       "      <td>NaN</td>\n",
       "      <td>NaN</td>\n",
       "      <td>0.0</td>\n",
       "      <td>0.0</td>\n",
       "      <td>0.0</td>\n",
       "      <td>0.0</td>\n",
       "      <td>0.0</td>\n",
       "      <td>1</td>\n",
       "    </tr>\n",
       "    <tr>\n",
       "      <th>87</th>\n",
       "      <td>121626</td>\n",
       "      <td>钱健</td>\n",
       "      <td>17502105626</td>\n",
       "      <td>2018-08-18</td>\n",
       "      <td>-2</td>\n",
       "      <td>4</td>\n",
       "      <td>0</td>\n",
       "      <td>0</td>\n",
       "      <td>0.0</td>\n",
       "      <td>NaN</td>\n",
       "      <td>NaN</td>\n",
       "      <td>0.0</td>\n",
       "      <td>0.0</td>\n",
       "      <td>0.0</td>\n",
       "      <td>0.0</td>\n",
       "      <td>0.0</td>\n",
       "      <td>1</td>\n",
       "    </tr>\n",
       "  </tbody>\n",
       "</table>\n",
       "</div>"
      ],
      "text/plain": [
       "      司机id   姓名           手机       激活时间  激活状态  装车总时长  活跃天数(任务)  活跃天数(领券)  \\\n",
       "30  122490  甄玉飞  15237402535 2018-08-04     1     16         0         0   \n",
       "57  122557  朱海军  18762100513 2018-08-06     1     15         0         0   \n",
       "59  122581  江国成  19945733218 2018-08-06     1     15         0         0   \n",
       "74  122719   杨磊  17502131878 2018-08-10     1     11         0         0   \n",
       "87  121626   钱健  17502105626 2018-08-18    -2      4         0         0   \n",
       "\n",
       "    活跃天数占比  累计完成任务数  累计领券数  完成任务数  领券数  转化率  在线日均完成任务数  在线日均领券数  物料批次  \n",
       "30     0.0      NaN    NaN    0.0  0.0  0.0        0.0      0.0     1  \n",
       "57     0.0      NaN    NaN    0.0  0.0  0.0        0.0      0.0     1  \n",
       "59     0.0      NaN    NaN    0.0  0.0  0.0        0.0      0.0     1  \n",
       "74     0.0      NaN    NaN    0.0  0.0  0.0        0.0      0.0     1  \n",
       "87     0.0      NaN    NaN    0.0  0.0  0.0        0.0      0.0     1  "
      ]
     },
     "execution_count": 18,
     "metadata": {},
     "output_type": "execute_result"
    }
   ],
   "source": [
    "real_df.loc[(real_df.物料批次==1)&(real_df.完成任务数==0)]"
   ]
  },
  {
   "cell_type": "code",
   "execution_count": 58,
   "metadata": {},
   "outputs": [
    {
     "data": {
      "text/plain": [
       "0    (-0.003, 1.5]\n",
       "1    (-0.003, 1.5]\n",
       "2    (-0.003, 1.5]\n",
       "3       (1.5, 3.0]\n",
       "4    (-0.003, 1.5]\n",
       "5       (1.5, 3.0]\n",
       "6       (1.5, 3.0]\n",
       "dtype: category\n",
       "Categories (2, interval[float64]): [(-0.003, 1.5] < (1.5, 3.0]]"
      ]
     },
     "execution_count": 58,
     "metadata": {},
     "output_type": "execute_result"
    }
   ],
   "source": [
    "pd.cut(dd,bins=2)"
   ]
  },
  {
   "cell_type": "code",
   "execution_count": 60,
   "metadata": {},
   "outputs": [
    {
     "data": {
      "image/png": "[encoded data removed]",
      "text/plain": [
       "<Figure size 576x288 with 1 Axes>"
      ]
     },
     "metadata": {},
     "output_type": "display_data"
    }
   ],
   "source": [
    "real_df.loc[real_df.物料批次==1,'在线日均完成任务数'].plot.hist(bins=range(0,8),density=True,alpha=0.7,figsize=(8,4),edgecolor='black')\n",
    "plt.show()"
   ]
  },
  {
   "cell_type": "code",
   "execution_count": 62,
   "metadata": {
    "scrolled": true
   },
   "outputs": [
    {
     "data": {
      "image/png": "[encoded data removed]",
      "text/plain": [
       "<Figure size 576x288 with 1 Axes>"
      ]
     },
     "metadata": {},
     "output_type": "display_data"
    }
   ],
   "source": [
    "real_df.loc[real_df.物料批次==2,'在线日均完成任务数'].plot.hist(bins=range(0,8),density=True,alpha=0.7,figsize=(8,4),edgecolor='black')\n",
    "plt.show()"
   ]
  },
  {
   "cell_type": "code",
   "execution_count": 59,
   "metadata": {},
   "outputs": [
    {
     "data": {
      "image/png": "[encoded data removed]",
      "text/plain": [
       "<Figure size 576x288 with 1 Axes>"
      ]
     },
     "metadata": {},
     "output_type": "display_data"
    }
   ],
   "source": [
    "real_df.loc[real_df.物料批次==1,'完成任务数'].plot.hist(bins=range(0,8),density=True,alpha=0.7,figsize=(8,4),edgecolor='black')\n",
    "plt.show()"
   ]
  },
  {
   "cell_type": "code",
   "execution_count": 61,
   "metadata": {},
   "outputs": [
    {
     "data": {
      "image/png": "[encoded data removed]",
      "text/plain": [
       "<Figure size 576x288 with 1 Axes>"
      ]
     },
     "metadata": {},
     "output_type": "display_data"
    }
   ],
   "source": [
    "real_df.loc[real_df.物料批次==2,'完成任务数'].plot.hist(bins=range(0,8),density=True,alpha=0.7,figsize=(8,4),edgecolor='black')\n",
    "plt.show()"
   ]
  }
 ],
 "metadata": {
  "kernelspec": {
   "display_name": "Python 3",
   "language": "python",
   "name": "python3"
  },
  "language_info": {
   "codemirror_mode": {
    "name": "ipython",
    "version": 3
   },
   "file_extension": ".py",
   "mimetype": "text/x-python",
   "name": "python",
   "nbconvert_exporter": "python",
   "pygments_lexer": "ipython3",
   "version": "3.6.5"
  }
 },
 "nbformat": 4,
 "nbformat_minor": 2
}
