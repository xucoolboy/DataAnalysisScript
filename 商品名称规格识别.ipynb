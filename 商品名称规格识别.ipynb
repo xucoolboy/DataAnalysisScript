{
 "cells": [
  {
   "cell_type": "code",
   "execution_count": 2,
   "metadata": {},
   "outputs": [],
   "source": [
    "import numpy as np\n",
    "import pandas as pd\n",
    "import os\n",
    "import time\n",
    "import datetime\n",
    "import json\n",
    "import re"
   ]
  },
  {
   "cell_type": "code",
   "execution_count": 3,
   "metadata": {},
   "outputs": [],
   "source": [
    "inputdir = r'C:\\Users\\chong.xu6138\\Documents\\notebook\\item_spec_dm.xlsx'\n",
    "outputdir = r'C:\\Users\\chong.xu6138\\Documents\\notebook'"
   ]
  },
  {
   "cell_type": "code",
   "execution_count": 4,
   "metadata": {},
   "outputs": [],
   "source": [
    "df = pd.read_excel(inputdir)"
   ]
  },
  {
   "cell_type": "code",
   "execution_count": 5,
   "metadata": {},
   "outputs": [
    {
     "data": {
      "text/html": [
       "<div>\n",
       "<style scoped>\n",
       "    .dataframe tbody tr th:only-of-type {\n",
       "        vertical-align: middle;\n",
       "    }\n",
       "\n",
       "    .dataframe tbody tr th {\n",
       "        vertical-align: top;\n",
       "    }\n",
       "\n",
       "    .dataframe thead th {\n",
       "        text-align: right;\n",
       "    }\n",
       "</style>\n",
       "<table border=\"1\" class=\"dataframe\">\n",
       "  <thead>\n",
       "    <tr style=\"text-align: right;\">\n",
       "      <th></th>\n",
       "      <th>pay_month</th>\n",
       "      <th>item_id</th>\n",
       "      <th>item_name</th>\n",
       "      <th>business_unit</th>\n",
       "      <th>brand_name</th>\n",
       "      <th>brand_series_name</th>\n",
       "      <th>商品总金额</th>\n",
       "      <th>支付罐数</th>\n",
       "    </tr>\n",
       "  </thead>\n",
       "  <tbody>\n",
       "    <tr>\n",
       "      <th>0</th>\n",
       "      <td>202207</td>\n",
       "      <td>226967</td>\n",
       "      <td>伊利金领冠塞纳牧幼儿配方奶粉3段405g</td>\n",
       "      <td>大贸奶纸</td>\n",
       "      <td>伊利</td>\n",
       "      <td>金领冠</td>\n",
       "      <td>10118.56</td>\n",
       "      <td>148</td>\n",
       "    </tr>\n",
       "    <tr>\n",
       "      <th>1</th>\n",
       "      <td>202202</td>\n",
       "      <td>226967</td>\n",
       "      <td>伊利金领冠塞纳牧幼儿配方奶粉3段405g</td>\n",
       "      <td>大贸奶纸</td>\n",
       "      <td>伊利</td>\n",
       "      <td>金领冠</td>\n",
       "      <td>711.35</td>\n",
       "      <td>7</td>\n",
       "    </tr>\n",
       "    <tr>\n",
       "      <th>2</th>\n",
       "      <td>202204</td>\n",
       "      <td>226967</td>\n",
       "      <td>伊利金领冠塞纳牧幼儿配方奶粉3段405g</td>\n",
       "      <td>大贸奶纸</td>\n",
       "      <td>伊利</td>\n",
       "      <td>金领冠</td>\n",
       "      <td>2158.73</td>\n",
       "      <td>22</td>\n",
       "    </tr>\n",
       "    <tr>\n",
       "      <th>3</th>\n",
       "      <td>202205</td>\n",
       "      <td>226967</td>\n",
       "      <td>伊利金领冠塞纳牧幼儿配方奶粉3段405g</td>\n",
       "      <td>大贸奶纸</td>\n",
       "      <td>伊利</td>\n",
       "      <td>金领冠</td>\n",
       "      <td>873.73</td>\n",
       "      <td>10</td>\n",
       "    </tr>\n",
       "    <tr>\n",
       "      <th>4</th>\n",
       "      <td>202201</td>\n",
       "      <td>226967</td>\n",
       "      <td>伊利金领冠塞纳牧幼儿配方奶粉3段405g</td>\n",
       "      <td>大贸奶纸</td>\n",
       "      <td>伊利</td>\n",
       "      <td>金领冠</td>\n",
       "      <td>3630.97</td>\n",
       "      <td>49</td>\n",
       "    </tr>\n",
       "  </tbody>\n",
       "</table>\n",
       "</div>"
      ],
      "text/plain": [
       "   pay_month  item_id             item_name business_unit brand_name  \\\n",
       "0     202207   226967  伊利金领冠塞纳牧幼儿配方奶粉3段405g          大贸奶纸         伊利   \n",
       "1     202202   226967  伊利金领冠塞纳牧幼儿配方奶粉3段405g          大贸奶纸         伊利   \n",
       "2     202204   226967  伊利金领冠塞纳牧幼儿配方奶粉3段405g          大贸奶纸         伊利   \n",
       "3     202205   226967  伊利金领冠塞纳牧幼儿配方奶粉3段405g          大贸奶纸         伊利   \n",
       "4     202201   226967  伊利金领冠塞纳牧幼儿配方奶粉3段405g          大贸奶纸         伊利   \n",
       "\n",
       "  brand_series_name     商品总金额  支付罐数  \n",
       "0               金领冠  10118.56   148  \n",
       "1               金领冠    711.35     7  \n",
       "2               金领冠   2158.73    22  \n",
       "3               金领冠    873.73    10  \n",
       "4               金领冠   3630.97    49  "
      ]
     },
     "execution_count": 5,
     "metadata": {},
     "output_type": "execute_result"
    }
   ],
   "source": [
    "df.head()"
   ]
  },
  {
   "cell_type": "code",
   "execution_count": 6,
   "metadata": {},
   "outputs": [],
   "source": [
    "key_word_list=['']*len(df.item_name)\n",
    "for i in range(0,len(df.item_name)):\n",
    "    try:\n",
    "        key_word_list[i]=re.search('(\\d+g)',df.item_name[i],re.IGNORECASE).group()\n",
    "    except:\n",
    "        try:\n",
    "            key_word_list[i]=re.search('(\\d+kg)',df.item_name[i],re.IGNORECASE).group()\n",
    "        except:\n",
    "            try:\n",
    "                key_word_list[i]=re.search('(\\d+克)',df.item_name[i],re.IGNORECASE).group()\n",
    "            except:continue"
   ]
  },
  {
   "cell_type": "code",
   "execution_count": 7,
   "metadata": {},
   "outputs": [],
   "source": [
    "df['key_word']=key_word_list"
   ]
  },
  {
   "cell_type": "code",
   "execution_count": 8,
   "metadata": {},
   "outputs": [],
   "source": [
    "df.to_excel(r'C:\\Users\\chong.xu6138\\Documents\\notebook\\item_list_dmnz.xlsx')"
   ]
  },
  {
   "cell_type": "code",
   "execution_count": null,
   "metadata": {},
   "outputs": [],
   "source": []
  },
  {
   "cell_type": "code",
   "execution_count": null,
   "metadata": {},
   "outputs": [],
   "source": []
  }
 ],
 "metadata": {
  "kernelspec": {
   "display_name": "Python 3",
   "language": "python",
   "name": "python3"
  },
  "language_info": {
   "codemirror_mode": {
    "name": "ipython",
    "version": 3
   },
   "file_extension": ".py",
   "mimetype": "text/x-python",
   "name": "python",
   "nbconvert_exporter": "python",
   "pygments_lexer": "ipython3",
   "version": "3.7.6"
  }
 },
 "nbformat": 4,
 "nbformat_minor": 4
}
